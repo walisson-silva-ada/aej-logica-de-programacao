{
 "cells": [
  {
   "cell_type": "markdown",
   "metadata": {},
   "source": [
    "#### Super Dígito 🤔\n",
    "\n",
    "O super dígito de um número inteiro *x* é obtido da seguinte forma:\n",
    "\n",
    "- Se *x* é composto por apenas um dígito, então, esse dígito é o super dígito de x.\n",
    "- Do contrário, o super dígito de *x* é igual ao super dígito da soma dos dígitos de x.\n",
    "\n",
    "Perceba que, enquanto não chegarmos a um número composto por apenas **um dígito**, ainda não encontramos o super dígito de *x*.\n",
    "\n",
    "Por exemplificar, o super dígito de 9875 é:\n",
    "\n",
    "```python\n",
    "super_digit(9875) = 9 + 8 + 7 + 5 = 29\n",
    "super_digit(29)   = 2 + 9 = 11\n",
    "super_digit(11)   = 1 + 1 = 2\n",
    "super_digit(2)    = 2\n",
    "```\n",
    "\n",
    "Portanto, no exemplo acima, se *x* for igual a 9875, o seu super dígito é igual a 2, pois calculamos o super dígito da soma dos seus dígitos, até que o resultado fosse apenas um número de apenas **um dígito**.\n",
    "\n",
    "Sabendo disso, o seu desafio é o seguinte:\n",
    "\n",
    "- você irá receber dois números do usuário, *n* e *k*. A partir desses dois números, você formará um novo número *p*, que será a concatenação no número *n*, *k* vezes. Por exemplo, se *n = 9875* e *k = 4*, *p = 9875 9875 9875 9875*; ou seja *p* é 9875, 4 vezes.\n",
    "\n",
    "- Sabendo o valor de *p*, **calcule o seu super dígito por meio de uma função recursiva**.\n",
    "\n",
    "Exemplo de entrada ||| Exemplo de saída\n",
    "------------------ ||| ----------------\n",
    "148 3              ||| 3\n",
    "9875 4             ||| 8\n",
    "123 3              ||| 9"
   ]
  },
  {
   "cell_type": "code",
   "execution_count": 164,
   "metadata": {},
   "outputs": [
    {
     "data": {
      "text/plain": [
       "8"
      ]
     },
     "execution_count": 164,
     "metadata": {},
     "output_type": "execute_result"
    }
   ],
   "source": [
    "n = input('Digite um número inteiro qualqer: ')\n",
    "while n.isdecimal() is not True:\n",
    "    n = input('Digite um número inteiro qualqer: ')\n",
    "\n",
    "k = input('Digite um número inteiro qualqer: ')\n",
    "while k.isdecimal() is not True:\n",
    "    k = input('Digite um número inteiro qualqer: ')\n",
    "\n",
    "k = int(k)\n",
    "\n",
    "number_in_list = list(n) * k\n",
    "\n",
    "def super_digit(number_list):\n",
    "    \n",
    "    if len(number_list) == 1:\n",
    "        return int(number_list[0])\n",
    "\n",
    "    else:\n",
    "        sum_list = 0\n",
    "        for i in number_list:\n",
    "            sum_list += int(i)\n",
    "        return super_digit(list(str(sum_list)))\n",
    "\n",
    "super_digit(number_in_list)"
   ]
  }
 ],
 "metadata": {
  "interpreter": {
   "hash": "31f2aee4e71d21fbe5cf8b01ff0e069b9275f58929596ceb00d14d90e3e16cd6"
  },
  "kernelspec": {
   "display_name": "Python 3.10.0 64-bit",
   "language": "python",
   "name": "python3"
  },
  "language_info": {
   "codemirror_mode": {
    "name": "ipython",
    "version": 3
   },
   "file_extension": ".py",
   "mimetype": "text/x-python",
   "name": "python",
   "nbconvert_exporter": "python",
   "pygments_lexer": "ipython3",
   "version": "3.8.12"
  },
  "orig_nbformat": 4
 },
 "nbformat": 4,
 "nbformat_minor": 2
}
