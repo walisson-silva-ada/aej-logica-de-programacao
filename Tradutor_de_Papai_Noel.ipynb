{
 "cells": [
  {
   "cell_type": "markdown",
   "metadata": {},
   "source": [
    "### Tradutor de Papai Noel 🎅\n",
    "\n",
    "Nicolau já está bastante cansado e sua memória não é mais a mesma. Você, como programador, deverá auxiliar o Papai Noel a gritar a frase \"Feliz Natal\" no idioma correto de cada país de que trenó está sobrevoando.\n",
    "\n",
    "Como você é muito esperto(a), você já criou um pequeno app no seu celular  que irá lhe informar a frase no idioma correto dado o nome do país. Como o trenó é moderno, ele exibe no painel de navegação o nome do país atual.\n",
    "\n",
    "<img src=\"https://www.urionlinejudge.com.br/gallery/images/problems/UOJ_1763.gif\" style=\"display: block; margin: 1rem auto\" />\n",
    "\n",
    "Os dados inseridos no seu app foram:\n",
    "\n",
    "```\n",
    "brasil              Feliz Natal!\n",
    "alemanha            Frohliche Weihnachten!\n",
    "austria             Frohe Weihnacht!\n",
    "coreia              Chuk Sung Tan!\n",
    "espanha             Feliz Navidad!\n",
    "grecia              Kala Christougena!\n",
    "estados-unidos      Merry Christmas!\n",
    "inglaterra          Merry Christmas!\n",
    "australia           Merry Christmas!\n",
    "portugal            Feliz Natal!\n",
    "suecia              God Jul!\n",
    "turquia             Mutlu Noeller\n",
    "argentina           Feliz Navidad!\n",
    "chile               Feliz Navidad!\n",
    "mexico              Feliz Navidad!\n",
    "antardida           Merry Christmas!\n",
    "canada              Merry Christmas!\n",
    "irlanda             Nollaig Shona Dhuit!\n",
    "belgica             Zalig Kerstfeest!\n",
    "italia              Buon Natale!\n",
    "libia               Buon Natale!\n",
    "siria               Milad Mubarak!\n",
    "marrocos            Milad Mubarak!\n",
    "japao               Merii Kurisumasu!\n",
    "```\n",
    "\n",
    "Para não correr o risco de infomar o nome errado você decidiu testar o aplicativo mais algumas vezes. Você irá testar o seu aplicativo com diversos nomes de paises, simulando os dados informados pelo painel de navegação do trenó.\n",
    "\n",
    "O seu aplicativo deverá mostrar na tela a frase no idioma correto. Caso ela não esteja cadastrada, você deverá exibir a mensagem `--- NOT FOUND ---`.\n",
    "\n",
    "\n",
    "|  Exemplo de Entrada | Exemplo de Saída     |\n",
    "|:-------------------:|:--------------------:|\n",
    "| uri-online-judge    | --- NOT FOUND ---    |\n",
    "| alemanha      |  Frohliche Weihnachten!    |\n",
    "| brasil        |  Feliz Natal!              |\n",
    "| austria       |  Frohe Weihnacht!          |"
   ]
  },
  {
   "cell_type": "code",
   "execution_count": 43,
   "metadata": {},
   "outputs": [
    {
     "name": "stdout",
     "output_type": "stream",
     "text": [
      "Para encerrar o programa insira \"end-program\" (sem as aspas).\n",
      "Milad Mubarak!\n",
      "Milad Mubarak!\n",
      "Merii Kurisumasu!\n",
      "Buon Natale!\n",
      "--- NOT FOUND ---\n",
      "--- NOT FOUND ---\n",
      "Fim da execução!\n"
     ]
    }
   ],
   "source": [
    "paises_frases_dicionario = {'brasil':'Feliz Natal!',\n",
    "'alemanha':'Frohliche Weihnachten!',\n",
    "'austria':'Frohe Weihnacht!',\n",
    "'coreia':'Chuk Sung Tan!',\n",
    "'espanha':'Feliz Navidad!',\n",
    "'grecia':'Kala Christougena!',\n",
    "'estados-unidos':'Merry Christmas!',\n",
    "'inglaterra':'Merry Christmas!',\n",
    "'australia':'Merry Christmas!',\n",
    "'portugal':'Feliz Natal!',\n",
    "'suecia':'God Jul!',\n",
    "'turquia':'Mutlu Noeller',\n",
    "'argentina':'Feliz Navidad!',\n",
    "'chile':'Feliz Navidad!',\n",
    "'mexico':'Feliz Navidad!',\n",
    "'antardida':'Merry Christmas!',\n",
    "'canada':'Merry Christmas!',\n",
    "'irlanda':'Nollaig Shona Dhuit!',\n",
    "'belgica':'Zalig Kerstfeest!',\n",
    "'italia':'Buon Natale!',\n",
    "'libia':'Buon Natale!',\n",
    "'siria':'Milad Mubarak!',\n",
    "'marrocos':'Milad Mubarak!',\n",
    "'japao':'Merii Kurisumasu!'}\n",
    "\n",
    "print('Para encerrar o programa insira \"end-program\" (sem as aspas).')\n",
    "pais_atual = 'start'\n",
    "while pais_atual != 'end-program':\n",
    "    pais_atual = input('País atual (apenas com letras minúsculas): ')\n",
    "\n",
    "    if pais_atual in paises_frases_dicionario.keys():\n",
    "        print(paises_frases_dicionario[pais_atual])\n",
    "    else:\n",
    "        print('--- NOT FOUND ---')\n",
    "\n",
    "print('Fim da execução!')"
   ]
  }
 ],
 "metadata": {
  "interpreter": {
   "hash": "9fe960c89366bb7653e3a6889a716cf7b60e74a34160efdf9bcf6147bfb482f3"
  },
  "kernelspec": {
   "display_name": "Python 3.8.12 64-bit (conda)",
   "language": "python",
   "name": "python3"
  },
  "language_info": {
   "codemirror_mode": {
    "name": "ipython",
    "version": 3
   },
   "file_extension": ".py",
   "mimetype": "text/x-python",
   "name": "python",
   "nbconvert_exporter": "python",
   "pygments_lexer": "ipython3",
   "version": "3.8.12"
  },
  "orig_nbformat": 4
 },
 "nbformat": 4,
 "nbformat_minor": 2
}
